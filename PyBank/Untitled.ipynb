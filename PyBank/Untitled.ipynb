{
 "cells": [
  {
   "cell_type": "code",
   "execution_count": 1,
   "id": "2305357c",
   "metadata": {},
   "outputs": [],
   "source": [
    "import pandas as pd\n",
    "from pathlib import Path"
   ]
  },
  {
   "cell_type": "code",
   "execution_count": 3,
   "id": "39204adb",
   "metadata": {},
   "outputs": [],
   "source": [
    "file_path = Path(\"/Users/lanahuyen/python-challenge/PyPoll/Resources/election_data.csv\")\n",
    "election_df = pd.read_csv(file_path)"
   ]
  },
  {
   "cell_type": "code",
   "execution_count": 4,
   "id": "c7c81be2",
   "metadata": {},
   "outputs": [],
   "source": [
    "#total votes\n",
    "total_votes = election_df.shape[0]"
   ]
  },
  {
   "cell_type": "code",
   "execution_count": 5,
   "id": "c924a5a1",
   "metadata": {},
   "outputs": [],
   "source": [
    "#candidates and votes\n",
    "candidate_votes = election_df['Candidate'].value_counts()"
   ]
  },
  {
   "cell_type": "code",
   "execution_count": 6,
   "id": "f8cc0fc9",
   "metadata": {},
   "outputs": [],
   "source": [
    "#percentage of votes\n",
    "percentage_votes = (candidate_votes / total_votes) * 100"
   ]
  },
  {
   "cell_type": "code",
   "execution_count": 7,
   "id": "4228a81c",
   "metadata": {},
   "outputs": [],
   "source": [
    "#winner index max\n",
    "winner = candidate_votes.idxmax()"
   ]
  },
  {
   "cell_type": "code",
   "execution_count": 8,
   "id": "b1cd2d74",
   "metadata": {},
   "outputs": [
    {
     "name": "stdout",
     "output_type": "stream",
     "text": [
      "Election Results\n",
      "-------------------------\n",
      "Total Votes: 369711\n",
      "-------------------------\n",
      "Diana DeGette: 73.812% (272892)\n",
      "Charles Casper Stockham: 23.049% (85213)\n",
      "Raymon Anthony Doane: 3.139% (11606)\n",
      "-------------------------\n",
      "Winner: Diana DeGette\n",
      "-------------------------\n"
     ]
    }
   ],
   "source": [
    "#print\n",
    "print(\"Election Results\")\n",
    "print(\"-------------------------\")\n",
    "print(f\"Total Votes: {total_votes}\")\n",
    "print(\"-------------------------\")\n",
    "for candidate, votes in candidate_votes.items():\n",
    "    print(f\"{candidate}: {percentage_votes[candidate]:.3f}% ({votes})\")\n",
    "print(\"-------------------------\")\n",
    "print(f\"Winner: {winner}\")\n",
    "print(\"-------------------------\")"
   ]
  },
  {
   "cell_type": "code",
   "execution_count": null,
   "id": "70508b6d",
   "metadata": {},
   "outputs": [],
   "source": []
  }
 ],
 "metadata": {
  "kernelspec": {
   "display_name": "Python 3 (ipykernel)",
   "language": "python",
   "name": "python3"
  },
  "language_info": {
   "codemirror_mode": {
    "name": "ipython",
    "version": 3
   },
   "file_extension": ".py",
   "mimetype": "text/x-python",
   "name": "python",
   "nbconvert_exporter": "python",
   "pygments_lexer": "ipython3",
   "version": "3.10.14"
  }
 },
 "nbformat": 4,
 "nbformat_minor": 5
}
