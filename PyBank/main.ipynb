{
 "cells": [
  {
   "cell_type": "code",
   "execution_count": 1,
   "id": "5d29fd85",
   "metadata": {},
   "outputs": [],
   "source": [
    "import pandas as pd\n",
    "from pathlib import Path"
   ]
  },
  {
   "cell_type": "code",
   "execution_count": 59,
   "id": "3d2f1b24",
   "metadata": {},
   "outputs": [
    {
     "data": {
      "text/html": [
       "<div>\n",
       "<style scoped>\n",
       "    .dataframe tbody tr th:only-of-type {\n",
       "        vertical-align: middle;\n",
       "    }\n",
       "\n",
       "    .dataframe tbody tr th {\n",
       "        vertical-align: top;\n",
       "    }\n",
       "\n",
       "    .dataframe thead th {\n",
       "        text-align: right;\n",
       "    }\n",
       "</style>\n",
       "<table border=\"1\" class=\"dataframe\">\n",
       "  <thead>\n",
       "    <tr style=\"text-align: right;\">\n",
       "      <th></th>\n",
       "      <th>Date</th>\n",
       "      <th>Profit/Losses</th>\n",
       "    </tr>\n",
       "  </thead>\n",
       "  <tbody>\n",
       "    <tr>\n",
       "      <th>0</th>\n",
       "      <td>Jan-10</td>\n",
       "      <td>1088983</td>\n",
       "    </tr>\n",
       "    <tr>\n",
       "      <th>1</th>\n",
       "      <td>Feb-10</td>\n",
       "      <td>-354534</td>\n",
       "    </tr>\n",
       "    <tr>\n",
       "      <th>2</th>\n",
       "      <td>Mar-10</td>\n",
       "      <td>276622</td>\n",
       "    </tr>\n",
       "    <tr>\n",
       "      <th>3</th>\n",
       "      <td>Apr-10</td>\n",
       "      <td>-728133</td>\n",
       "    </tr>\n",
       "    <tr>\n",
       "      <th>4</th>\n",
       "      <td>May-10</td>\n",
       "      <td>852993</td>\n",
       "    </tr>\n",
       "  </tbody>\n",
       "</table>\n",
       "</div>"
      ],
      "text/plain": [
       "     Date  Profit/Losses\n",
       "0  Jan-10        1088983\n",
       "1  Feb-10        -354534\n",
       "2  Mar-10         276622\n",
       "3  Apr-10        -728133\n",
       "4  May-10         852993"
      ]
     },
     "execution_count": 59,
     "metadata": {},
     "output_type": "execute_result"
    }
   ],
   "source": [
    "file = Path(\"Resources/budget_data.csv\")\n",
    "budget_df = pd.read_csv(file)\n",
    "budget_df.head()"
   ]
  },
  {
   "cell_type": "code",
   "execution_count": 60,
   "id": "81c17bf8",
   "metadata": {},
   "outputs": [
    {
     "name": "stdout",
     "output_type": "stream",
     "text": [
      "86\n"
     ]
    }
   ],
   "source": [
    "#total number of moths\n",
    "\n",
    "total_months = budget_df['Date'].count()\n"
   ]
  },
  {
   "cell_type": "code",
   "execution_count": 61,
   "id": "b87cd548",
   "metadata": {},
   "outputs": [],
   "source": [
    "#total of p/l\n",
    "total_pl = budget_df['Profit/Losses'].sum()"
   ]
  },
  {
   "cell_type": "code",
   "execution_count": 62,
   "id": "7688dc85",
   "metadata": {},
   "outputs": [
    {
     "data": {
      "text/html": [
       "<div>\n",
       "<style scoped>\n",
       "    .dataframe tbody tr th:only-of-type {\n",
       "        vertical-align: middle;\n",
       "    }\n",
       "\n",
       "    .dataframe tbody tr th {\n",
       "        vertical-align: top;\n",
       "    }\n",
       "\n",
       "    .dataframe thead th {\n",
       "        text-align: right;\n",
       "    }\n",
       "</style>\n",
       "<table border=\"1\" class=\"dataframe\">\n",
       "  <thead>\n",
       "    <tr style=\"text-align: right;\">\n",
       "      <th></th>\n",
       "      <th>Date</th>\n",
       "      <th>Profit/Losses</th>\n",
       "    </tr>\n",
       "  </thead>\n",
       "  <tbody>\n",
       "    <tr>\n",
       "      <th>0</th>\n",
       "      <td>Jan-10</td>\n",
       "      <td>1088983</td>\n",
       "    </tr>\n",
       "    <tr>\n",
       "      <th>1</th>\n",
       "      <td>Feb-10</td>\n",
       "      <td>-354534</td>\n",
       "    </tr>\n",
       "    <tr>\n",
       "      <th>2</th>\n",
       "      <td>Mar-10</td>\n",
       "      <td>276622</td>\n",
       "    </tr>\n",
       "    <tr>\n",
       "      <th>3</th>\n",
       "      <td>Apr-10</td>\n",
       "      <td>-728133</td>\n",
       "    </tr>\n",
       "    <tr>\n",
       "      <th>4</th>\n",
       "      <td>May-10</td>\n",
       "      <td>852993</td>\n",
       "    </tr>\n",
       "  </tbody>\n",
       "</table>\n",
       "</div>"
      ],
      "text/plain": [
       "     Date  Profit/Losses\n",
       "0  Jan-10        1088983\n",
       "1  Feb-10        -354534\n",
       "2  Mar-10         276622\n",
       "3  Apr-10        -728133\n",
       "4  May-10         852993"
      ]
     },
     "execution_count": 62,
     "metadata": {},
     "output_type": "execute_result"
    }
   ],
   "source": [
    "budget_df.head()"
   ]
  },
  {
   "cell_type": "code",
   "execution_count": 63,
   "id": "2a004f0d",
   "metadata": {},
   "outputs": [
    {
     "name": "stdout",
     "output_type": "stream",
     "text": [
      "     Date  Profit/Losses\n",
      "0  Jan-10            NaN\n",
      "1  Feb-10     -1443517.0\n",
      "2  Mar-10       631156.0\n",
      "3  Apr-10     -1004755.0\n",
      "4  May-10      1581126.0\n"
     ]
    }
   ],
   "source": [
    "#changes in p/l\n",
    "\n",
    "# Calculate month-to-month changes\n",
    "budget_df.loc[:, 'Profit/Losses'] = budget_df['Profit/Losses'].diff()\n",
    "\n",
    "print(budget_df.head())"
   ]
  },
  {
   "cell_type": "code",
   "execution_count": 64,
   "id": "7722a4b4",
   "metadata": {},
   "outputs": [],
   "source": [
    "#mean of p/l change\n",
    "\n",
    "mean_change = budget_df['Profit/Losses'].mean()"
   ]
  },
  {
   "cell_type": "code",
   "execution_count": 71,
   "id": "48e36f7c",
   "metadata": {},
   "outputs": [],
   "source": [
    "#biggest increase\n",
    "highest_increase = budget_df.loc[budget_df['Profit/Losses'].idxmax()]"
   ]
  },
  {
   "cell_type": "code",
   "execution_count": 72,
   "id": "6f3d4adc",
   "metadata": {},
   "outputs": [],
   "source": [
    "#biggest decrease\n",
    "greatest_decrease = budget_df.loc[budget_df['Profit/Losses'].idxmin()]\n"
   ]
  },
  {
   "cell_type": "code",
   "execution_count": 73,
   "id": "5a4699e4",
   "metadata": {},
   "outputs": [
    {
     "name": "stdout",
     "output_type": "stream",
     "text": [
      "Financial Analysis\n",
      "----------------------------\n",
      "Total Months: 86\n",
      "Total: $22564198\n",
      "Average Change: $-8311.11\n",
      "Greatest Increase in Profits: Aug-16 ($1862002)\n",
      "Greatest Decrease in Profits: Feb-14 ($-1825558)\n"
     ]
    }
   ],
   "source": [
    "#print \n",
    "\n",
    "print(\"Financial Analysis\")\n",
    "print(\"----------------------------\")\n",
    "print(f\"Total Months: {total_months}\")\n",
    "print(f\"Total: ${total_pl}\")\n",
    "print(f\"Average Change: ${mean_change:.2f}\")\n",
    "print(f\"Greatest Increase in Profits: {highest_increase['Date']} (${int(highest_increase['Profit/Losses'])})\")\n",
    "print(f\"Greatest Decrease in Profits: {greatest_decrease['Date']} (${int(greatest_decrease['Profit/Losses'])})\")\n"
   ]
  },
  {
   "cell_type": "code",
   "execution_count": 79,
   "id": "b751589f",
   "metadata": {},
   "outputs": [],
   "source": [
    "# Specify the path to the file\n",
    "output_path = Path('/Users/lanahuyen/python-challenge/PyBank') / 'financial_analysis.txt'\n",
    "\n",
    "# Open the file and write to it\n",
    "with open(output_path, 'w') as file:\n",
    "    file.write(\"Financial Analysis\\n\")\n",
    "    file.write(\"----------------------------\\n\")\n",
    "    file.write(f\"Total Months: {total_months}\\n\")\n",
    "    file.write(f\"Total: ${total_pl}\\n\")\n",
    "    file.write(f\"Average Change: ${mean_change:.2f}\\n\")\n",
    "    file.write(f\"Greatest Increase in Profits: {highest_increase['Date']} (${highest_increase['Profit/Losses']})\\n\")\n",
    "    file.write(f\"Greatest Decrease in Profits: {greatest_decrease['Date']} (${greatest_decrease['Profit/Losses']})\\n\")\n"
   ]
  },
  {
   "cell_type": "code",
   "execution_count": null,
   "id": "68a2168a",
   "metadata": {},
   "outputs": [],
   "source": []
  }
 ],
 "metadata": {
  "kernelspec": {
   "display_name": "Python 3 (ipykernel)",
   "language": "python",
   "name": "python3"
  },
  "language_info": {
   "codemirror_mode": {
    "name": "ipython",
    "version": 3
   },
   "file_extension": ".py",
   "mimetype": "text/x-python",
   "name": "python",
   "nbconvert_exporter": "python",
   "pygments_lexer": "ipython3",
   "version": "3.10.14"
  }
 },
 "nbformat": 4,
 "nbformat_minor": 5
}
